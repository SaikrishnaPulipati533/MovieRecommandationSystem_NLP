{
 "cells": [
  {
   "cell_type": "code",
   "execution_count": 2,
   "metadata": {},
   "outputs": [],
   "source": [
    "import numpy as np\n",
    "import pandas as pd\n",
    "from flask import Flask, render_template, request\n",
    "\n",
    "# libraries for making count matrix and similarity matrix\n",
    "from sklearn.feature_extraction.text import CountVectorizer\n",
    "from sklearn.metrics.pairwise import cosine_similarity"
   ]
  },
  {
   "cell_type": "code",
   "execution_count": null,
   "metadata": {},
   "outputs": [
    {
     "name": "stdout",
     "output_type": "stream",
     "text": [
      " * Serving Flask app \"__main__\" (lazy loading)\n",
      " * Environment: production\n",
      "   WARNING: This is a development server. Do not use it in a production deployment.\n",
      "   Use a production WSGI server instead.\n",
      " * Debug mode: off\n"
     ]
    },
    {
     "name": "stderr",
     "output_type": "stream",
     "text": [
      " * Running on http://127.0.0.1:1478/ (Press CTRL+C to quit)\n",
      "127.0.0.1 - - [27/Feb/2021 19:53:18] \"\u001b[37mGET / HTTP/1.1\u001b[0m\" 200 -\n",
      "127.0.0.1 - - [27/Feb/2021 19:54:02] \"\u001b[37mGET /recommend?movie=avatar HTTP/1.1\u001b[0m\" 200 -\n"
     ]
    }
   ],
   "source": [
    "# define a function that creates similarity matrix\n",
    "\n",
    "# if it doesn't exist\n",
    "\n",
    "def create_sim():\n",
    "    data = pd.read_csv('data1.csv')\n",
    "    # creating a count matrix\n",
    "    cv = CountVectorizer()\n",
    "    count_matrix = cv.fit_transform(data['comb'])\n",
    "    # creating a similarity score matrix\n",
    "    sim = cosine_similarity(count_matrix)\n",
    "    return data,sim\n",
    "\n",
    "\n",
    "# defining a function that recommends 10 most similar movies\n",
    "def rcmd(m):\n",
    "    m = m.lower()\n",
    "    \n",
    "    # check if data and sim are already assigned\n",
    "    try:\n",
    "        data.head()\n",
    "        sim.shape\n",
    "    except:\n",
    "        data, sim = create_sim()\n",
    "    # check if the movie is in our database or not\n",
    "    if m not in data['movie_title'].unique():\n",
    "        return('This movie is not in our database.\\nPlease check if you spelled it correct.')\n",
    "    else:\n",
    "        # getting the index of the movie in the dataframe\n",
    "        i = data.loc[data['movie_title']==m].index[0]\n",
    "\n",
    "        # fetching the row containing similarity scores of the movie\n",
    "        # from similarity matrix and enumerate it\n",
    "        lst = list(enumerate(sim[i]))\n",
    "\n",
    "        # sorting this list in decreasing order based on the similarity score\n",
    "        lst = sorted(lst, key = lambda x:x[1] ,reverse=True)\n",
    "\n",
    "        # taking top 1- movie scores\n",
    "        # not taking the first index since it is the same movie\n",
    "        lst = lst[1:11]\n",
    "\n",
    "        # making an empty list that will containg all 10 movie recommendations\n",
    "        l = []\n",
    "        for i in range(len(lst)):\n",
    "            a = lst[i][0]\n",
    "            l.append(data['movie_title'][a])\n",
    "        return l\n",
    "\n",
    "app = Flask(__name__)\n",
    "\n",
    "@app.route(\"/\")\n",
    "\n",
    "def home():\n",
    "    return render_template('home.html')\n",
    "\n",
    "@app.route(\"/recommend\")\n",
    "def recommend():\n",
    "    movie = request.args.get('movie')\n",
    "    r = rcmd(movie)\n",
    "    movie = movie.upper()\n",
    "    if type(r)==type('string'):\n",
    "        return render_template('recommend.html',movie=movie,r=r,t='s')\n",
    "    else:\n",
    "        return render_template('recommend.html',movie=movie,r=r,t='l')\n",
    "\n",
    "\n",
    "\n",
    "if __name__ == '__main__':\n",
    "    app.run(port=1478)"
   ]
  },
  {
   "cell_type": "code",
   "execution_count": null,
   "metadata": {},
   "outputs": [],
   "source": []
  }
 ],
 "metadata": {
  "kernelspec": {
   "display_name": "Python 3",
   "language": "python",
   "name": "python3"
  },
  "language_info": {
   "codemirror_mode": {
    "name": "ipython",
    "version": 3
   },
   "file_extension": ".py",
   "mimetype": "text/x-python",
   "name": "python",
   "nbconvert_exporter": "python",
   "pygments_lexer": "ipython3",
   "version": "3.8.3"
  }
 },
 "nbformat": 4,
 "nbformat_minor": 2
}
